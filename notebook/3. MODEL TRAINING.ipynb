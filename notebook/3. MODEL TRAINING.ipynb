{
  "cells": [
    {
      "cell_type": "markdown",
      "metadata": {},
      "source": [
        "## Model Training"
      ]
    },
    {
      "cell_type": "markdown",
      "metadata": {},
      "source": [
        "#### 1.1 Import Data and Required Packages\n",
        "##### Importing Pandas, Numpy, Matplotlib, Seaborn and Warings Library."
      ]
    },
    {
      "cell_type": "code",
      "execution_count": 38,
      "metadata": {
        "colab": {
          "base_uri": "https://localhost:8080/"
        },
        "id": "7HS2KlpFHF_y",
        "outputId": "34cd0c4b-c62b-447a-933f-80a835306fa9"
      },
      "outputs": [
        {
          "name": "stdout",
          "output_type": "stream",
          "text": [
            "Collecting mysql-connector-python\n",
            "  Obtaining dependency information for mysql-connector-python from https://files.pythonhosted.org/packages/24/02/a5b6271da75cd7f67d9ec834cd79c8d65c1329e1eddfb707c56ded963d3d/mysql_connector_python-8.1.0-cp38-cp38-win_amd64.whl.metadata\n",
            "  Downloading mysql_connector_python-8.1.0-cp38-cp38-win_amd64.whl.metadata (2.1 kB)\n",
            "Collecting protobuf<=4.21.12,>=4.21.1 (from mysql-connector-python)\n",
            "  Downloading protobuf-4.21.12-cp38-cp38-win_amd64.whl (527 kB)\n",
            "     ---------------------------------------- 0.0/527.0 kB ? eta -:--:--\n",
            "     ---------------------------------------- 0.0/527.0 kB ? eta -:--:--\n",
            "      --------------------------------------- 10.2/527.0 kB ? eta -:--:--\n",
            "     -- ---------------------------------- 30.7/527.0 kB 330.3 kB/s eta 0:00:02\n",
            "     ------- ---------------------------- 112.6/527.0 kB 819.2 kB/s eta 0:00:01\n",
            "     ------------------------------- ------ 440.3/527.0 kB 2.5 MB/s eta 0:00:01\n",
            "     -------------------------------------- 527.0/527.0 kB 2.5 MB/s eta 0:00:00\n",
            "Downloading mysql_connector_python-8.1.0-cp38-cp38-win_amd64.whl (10.8 MB)\n",
            "   ---------------------------------------- 0.0/10.8 MB ? eta -:--:--\n",
            "   -- ------------------------------------- 0.6/10.8 MB 12.9 MB/s eta 0:00:01\n",
            "   -- ------------------------------------- 0.8/10.8 MB 10.0 MB/s eta 0:00:02\n",
            "   --- ------------------------------------ 0.9/10.8 MB 7.9 MB/s eta 0:00:02\n",
            "   --- ------------------------------------ 0.9/10.8 MB 7.9 MB/s eta 0:00:02\n",
            "   ---- ----------------------------------- 1.2/10.8 MB 4.9 MB/s eta 0:00:02\n",
            "   ----- ---------------------------------- 1.4/10.8 MB 4.7 MB/s eta 0:00:02\n",
            "   ------ --------------------------------- 1.6/10.8 MB 4.5 MB/s eta 0:00:03\n",
            "   ------ --------------------------------- 1.8/10.8 MB 4.5 MB/s eta 0:00:03\n",
            "   ------- -------------------------------- 1.9/10.8 MB 4.5 MB/s eta 0:00:02\n",
            "   ------- -------------------------------- 2.0/10.8 MB 4.3 MB/s eta 0:00:03\n",
            "   ------- -------------------------------- 2.0/10.8 MB 4.3 MB/s eta 0:00:03\n",
            "   --------- ------------------------------ 2.5/10.8 MB 4.3 MB/s eta 0:00:02\n",
            "   ---------- ----------------------------- 2.7/10.8 MB 4.2 MB/s eta 0:00:02\n",
            "   ---------- ----------------------------- 2.9/10.8 MB 4.2 MB/s eta 0:00:02\n",
            "   ----------- ---------------------------- 3.0/10.8 MB 4.2 MB/s eta 0:00:02\n",
            "   ----------- ---------------------------- 3.0/10.8 MB 4.2 MB/s eta 0:00:02\n",
            "   ----------- ---------------------------- 3.1/10.8 MB 3.8 MB/s eta 0:00:03\n",
            "   ------------- -------------------------- 3.6/10.8 MB 4.2 MB/s eta 0:00:02\n",
            "   -------------- ------------------------- 3.8/10.8 MB 4.2 MB/s eta 0:00:02\n",
            "   -------------- ------------------------- 4.0/10.8 MB 4.2 MB/s eta 0:00:02\n",
            "   --------------- ------------------------ 4.2/10.8 MB 4.1 MB/s eta 0:00:02\n",
            "   ---------------- ----------------------- 4.5/10.8 MB 4.1 MB/s eta 0:00:02\n",
            "   ----------------- ---------------------- 4.7/10.8 MB 4.1 MB/s eta 0:00:02\n",
            "   ----------------- ---------------------- 4.8/10.8 MB 4.1 MB/s eta 0:00:02\n",
            "   ------------------ --------------------- 5.0/10.8 MB 4.1 MB/s eta 0:00:02\n",
            "   ------------------- -------------------- 5.2/10.8 MB 4.1 MB/s eta 0:00:02\n",
            "   -------------------- ------------------- 5.5/10.8 MB 4.1 MB/s eta 0:00:02\n",
            "   --------------------- ------------------ 5.7/10.8 MB 4.0 MB/s eta 0:00:02\n",
            "   --------------------- ------------------ 5.9/10.8 MB 4.0 MB/s eta 0:00:02\n",
            "   ---------------------- ----------------- 6.1/10.8 MB 4.0 MB/s eta 0:00:02\n",
            "   ---------------------- ----------------- 6.2/10.8 MB 4.1 MB/s eta 0:00:02\n",
            "   ----------------------- ---------------- 6.4/10.8 MB 4.0 MB/s eta 0:00:02\n",
            "   ------------------------ --------------- 6.6/10.8 MB 4.0 MB/s eta 0:00:02\n",
            "   ------------------------- -------------- 6.9/10.8 MB 4.0 MB/s eta 0:00:01\n",
            "   -------------------------- ------------- 7.1/10.8 MB 4.0 MB/s eta 0:00:01\n",
            "   --------------------------- ------------ 7.4/10.8 MB 4.0 MB/s eta 0:00:01\n",
            "   ---------------------------- ----------- 7.6/10.8 MB 4.0 MB/s eta 0:00:01\n",
            "   ---------------------------- ----------- 7.8/10.8 MB 4.0 MB/s eta 0:00:01\n",
            "   ----------------------------- ---------- 8.1/10.8 MB 4.0 MB/s eta 0:00:01\n",
            "   ------------------------------ --------- 8.3/10.8 MB 4.0 MB/s eta 0:00:01\n",
            "   ------------------------------- -------- 8.4/10.8 MB 4.0 MB/s eta 0:00:01\n",
            "   ------------------------------- -------- 8.6/10.8 MB 4.0 MB/s eta 0:00:01\n",
            "   -------------------------------- ------- 8.9/10.8 MB 4.0 MB/s eta 0:00:01\n",
            "   --------------------------------- ------ 9.0/10.8 MB 4.0 MB/s eta 0:00:01\n",
            "   ---------------------------------- ----- 9.2/10.8 MB 4.0 MB/s eta 0:00:01\n",
            "   ---------------------------------- ----- 9.4/10.8 MB 4.0 MB/s eta 0:00:01\n",
            "   ----------------------------------- ---- 9.6/10.8 MB 4.0 MB/s eta 0:00:01\n",
            "   ------------------------------------ --- 9.7/10.8 MB 4.0 MB/s eta 0:00:01\n",
            "   ------------------------------------ --- 9.9/10.8 MB 4.0 MB/s eta 0:00:01\n",
            "   ------------------------------------- -- 10.1/10.8 MB 4.0 MB/s eta 0:00:01\n",
            "   -------------------------------------- - 10.3/10.8 MB 4.0 MB/s eta 0:00:01\n",
            "   -------------------------------------- - 10.5/10.8 MB 3.9 MB/s eta 0:00:01\n",
            "   ---------------------------------------  10.7/10.8 MB 3.8 MB/s eta 0:00:01\n",
            "   ---------------------------------------  10.8/10.8 MB 3.8 MB/s eta 0:00:01\n",
            "   ---------------------------------------  10.8/10.8 MB 3.8 MB/s eta 0:00:01\n",
            "   ---------------------------------------- 10.8/10.8 MB 3.6 MB/s eta 0:00:00\n",
            "Installing collected packages: protobuf, mysql-connector-python\n",
            "  Attempting uninstall: protobuf\n",
            "    Found existing installation: protobuf 4.23.4\n",
            "    Uninstalling protobuf-4.23.4:\n",
            "      Successfully uninstalled protobuf-4.23.4\n",
            "Successfully installed mysql-connector-python-8.1.0 protobuf-4.21.12\n",
            "Requirement already satisfied: feature-engine in c:\\users\\sumair\\anaconda3\\envs\\mlproject\\lib\\site-packages (1.6.1)\n",
            "Requirement already satisfied: numpy>=1.18.2 in c:\\users\\sumair\\anaconda3\\envs\\mlproject\\lib\\site-packages (from feature-engine) (1.24.4)\n",
            "Requirement already satisfied: pandas>=1.0.3 in c:\\users\\sumair\\anaconda3\\envs\\mlproject\\lib\\site-packages (from feature-engine) (2.0.3)\n",
            "Requirement already satisfied: scikit-learn>=1.0.0 in c:\\users\\sumair\\anaconda3\\envs\\mlproject\\lib\\site-packages (from feature-engine) (1.3.0)\n",
            "Requirement already satisfied: scipy>=1.4.1 in c:\\users\\sumair\\anaconda3\\envs\\mlproject\\lib\\site-packages (from feature-engine) (1.10.1)\n",
            "Requirement already satisfied: statsmodels>=0.11.1 in c:\\users\\sumair\\anaconda3\\envs\\mlproject\\lib\\site-packages (from feature-engine) (0.14.0)\n",
            "Requirement already satisfied: python-dateutil>=2.8.2 in c:\\users\\sumair\\anaconda3\\envs\\mlproject\\lib\\site-packages (from pandas>=1.0.3->feature-engine) (2.8.2)\n",
            "Requirement already satisfied: pytz>=2020.1 in c:\\users\\sumair\\anaconda3\\envs\\mlproject\\lib\\site-packages (from pandas>=1.0.3->feature-engine) (2022.7.1)\n",
            "Requirement already satisfied: tzdata>=2022.1 in c:\\users\\sumair\\anaconda3\\envs\\mlproject\\lib\\site-packages (from pandas>=1.0.3->feature-engine) (2023.3)\n",
            "Requirement already satisfied: joblib>=1.1.1 in c:\\users\\sumair\\anaconda3\\envs\\mlproject\\lib\\site-packages (from scikit-learn>=1.0.0->feature-engine) (1.3.1)\n",
            "Requirement already satisfied: threadpoolctl>=2.0.0 in c:\\users\\sumair\\anaconda3\\envs\\mlproject\\lib\\site-packages (from scikit-learn>=1.0.0->feature-engine) (3.2.0)\n",
            "Requirement already satisfied: patsy>=0.5.2 in c:\\users\\sumair\\anaconda3\\envs\\mlproject\\lib\\site-packages (from statsmodels>=0.11.1->feature-engine) (0.5.3)\n",
            "Requirement already satisfied: packaging>=21.3 in c:\\users\\sumair\\anaconda3\\envs\\mlproject\\lib\\site-packages (from statsmodels>=0.11.1->feature-engine) (23.1)\n",
            "Requirement already satisfied: six in c:\\users\\sumair\\anaconda3\\envs\\mlproject\\lib\\site-packages (from patsy>=0.5.2->statsmodels>=0.11.1->feature-engine) (1.16.0)\n",
            "Requirement already satisfied: scikit-learn in c:\\users\\sumair\\anaconda3\\envs\\mlproject\\lib\\site-packages (1.3.0)\n",
            "Collecting imbalanced-learn\n",
            "  Obtaining dependency information for imbalanced-learn from https://files.pythonhosted.org/packages/a3/9e/fbe60a768502af54563dcb59ca7856f5a8833b3ad5ada658922e1ab09b7f/imbalanced_learn-0.11.0-py3-none-any.whl.metadata\n",
            "  Downloading imbalanced_learn-0.11.0-py3-none-any.whl.metadata (8.3 kB)\n",
            "Requirement already satisfied: numpy>=1.17.3 in c:\\users\\sumair\\anaconda3\\envs\\mlproject\\lib\\site-packages (from scikit-learn) (1.24.4)\n",
            "Requirement already satisfied: scipy>=1.5.0 in c:\\users\\sumair\\anaconda3\\envs\\mlproject\\lib\\site-packages (from scikit-learn) (1.10.1)\n",
            "Requirement already satisfied: joblib>=1.1.1 in c:\\users\\sumair\\anaconda3\\envs\\mlproject\\lib\\site-packages (from scikit-learn) (1.3.1)\n",
            "Requirement already satisfied: threadpoolctl>=2.0.0 in c:\\users\\sumair\\anaconda3\\envs\\mlproject\\lib\\site-packages (from scikit-learn) (3.2.0)\n",
            "Downloading imbalanced_learn-0.11.0-py3-none-any.whl (235 kB)\n",
            "   ---------------------------------------- 0.0/235.6 kB ? eta -:--:--\n",
            "   ---------------------------------------- 0.0/235.6 kB ? eta -:--:--\n",
            "   - -------------------------------------- 10.2/235.6 kB ? eta -:--:--\n",
            "   ----- --------------------------------- 30.7/235.6 kB 435.7 kB/s eta 0:00:01\n",
            "   ---------- ---------------------------- 61.4/235.6 kB 544.7 kB/s eta 0:00:01\n",
            "   -------------------------- ----------- 163.8/235.6 kB 984.6 kB/s eta 0:00:01\n",
            "   ---------------------------------------- 235.6/235.6 kB 1.3 MB/s eta 0:00:00\n",
            "Installing collected packages: imbalanced-learn\n",
            "Successfully installed imbalanced-learn-0.11.0\n"
          ]
        }
      ],
      "source": [
        "#!pip install --upgrade scikit-learn\n",
        "!pip install mysql-connector-python\n",
        "!pip install feature-engine\n",
        "!pip install scikit-learn imbalanced-learn\n",
        "#!pip install --upgrade imbalanced-learn scikit-learn\n",
        "#!pip uninstall scikit-learn imbalanced-learn"
      ]
    },
    {
      "cell_type": "code",
      "execution_count": 21,
      "metadata": {
        "colab": {
          "base_uri": "https://localhost:8080/"
        },
        "id": "yEdfTVmiHKtw",
        "outputId": "63c329f0-7be9-4240-f6af-cb17f3e5198b"
      },
      "outputs": [
        {
          "name": "stdout",
          "output_type": "stream",
          "text": [
            "Collecting feature-engine\n",
            "  Obtaining dependency information for feature-engine from https://files.pythonhosted.org/packages/a3/1b/13e243aad6fcd559069b059c267db9ef8b843fc0afc443bf18cfcd9228e8/feature_engine-1.6.1-py2.py3-none-any.whl.metadata\n",
            "  Downloading feature_engine-1.6.1-py2.py3-none-any.whl.metadata (8.7 kB)\n",
            "Requirement already satisfied: numpy>=1.18.2 in c:\\users\\sumair\\anaconda3\\envs\\mlproject\\lib\\site-packages (from feature-engine) (1.24.4)\n",
            "Requirement already satisfied: pandas>=1.0.3 in c:\\users\\sumair\\anaconda3\\envs\\mlproject\\lib\\site-packages (from feature-engine) (2.0.3)\n",
            "Requirement already satisfied: scikit-learn>=1.0.0 in c:\\users\\sumair\\anaconda3\\envs\\mlproject\\lib\\site-packages (from feature-engine) (1.3.0)\n",
            "Requirement already satisfied: scipy>=1.4.1 in c:\\users\\sumair\\anaconda3\\envs\\mlproject\\lib\\site-packages (from feature-engine) (1.10.1)\n",
            "Collecting statsmodels>=0.11.1 (from feature-engine)\n",
            "  Downloading statsmodels-0.14.0-cp38-cp38-win_amd64.whl (9.4 MB)\n",
            "     ---------------------------------------- 0.0/9.4 MB ? eta -:--:--\n",
            "     ---------------------------------------- 0.0/9.4 MB ? eta -:--:--\n",
            "     ---------------------------------------- 0.0/9.4 MB ? eta -:--:--\n",
            "     ---------------------------------------- 0.1/9.4 MB 544.7 kB/s eta 0:00:18\n",
            "      --------------------------------------- 0.2/9.4 MB 1.3 MB/s eta 0:00:08\n",
            "     -- ------------------------------------- 0.6/9.4 MB 3.2 MB/s eta 0:00:03\n",
            "     ---- ----------------------------------- 0.9/9.4 MB 4.0 MB/s eta 0:00:03\n",
            "     ---- ----------------------------------- 1.1/9.4 MB 4.0 MB/s eta 0:00:03\n",
            "     ----- ---------------------------------- 1.2/9.4 MB 4.0 MB/s eta 0:00:03\n",
            "     ----- ---------------------------------- 1.2/9.4 MB 4.0 MB/s eta 0:00:03\n",
            "     ----- ---------------------------------- 1.4/9.4 MB 3.3 MB/s eta 0:00:03\n",
            "     ------- -------------------------------- 1.8/9.4 MB 4.0 MB/s eta 0:00:02\n",
            "     -------- ------------------------------- 2.0/9.4 MB 3.9 MB/s eta 0:00:02\n",
            "     --------- ------------------------------ 2.1/9.4 MB 3.9 MB/s eta 0:00:02\n",
            "     --------- ------------------------------ 2.1/9.4 MB 3.9 MB/s eta 0:00:02\n",
            "     --------- ------------------------------ 2.2/9.4 MB 3.3 MB/s eta 0:00:03\n",
            "     ---------- ----------------------------- 2.5/9.4 MB 3.6 MB/s eta 0:00:02\n",
            "     ----------- ---------------------------- 2.7/9.4 MB 3.5 MB/s eta 0:00:02\n",
            "     ------------ --------------------------- 3.0/9.4 MB 3.6 MB/s eta 0:00:02\n",
            "     ------------- -------------------------- 3.2/9.4 MB 3.6 MB/s eta 0:00:02\n",
            "     -------------- ------------------------- 3.4/9.4 MB 3.6 MB/s eta 0:00:02\n",
            "     -------------- ------------------------- 3.4/9.4 MB 3.6 MB/s eta 0:00:02\n",
            "     -------------- ------------------------- 3.4/9.4 MB 3.6 MB/s eta 0:00:02\n",
            "     --------------- ------------------------ 3.5/9.4 MB 3.3 MB/s eta 0:00:02\n",
            "     ---------------- ----------------------- 3.9/9.4 MB 3.5 MB/s eta 0:00:02\n",
            "     ----------------- ---------------------- 4.1/9.4 MB 3.5 MB/s eta 0:00:02\n",
            "     ------------------ --------------------- 4.2/9.4 MB 3.5 MB/s eta 0:00:02\n",
            "     ------------------ --------------------- 4.4/9.4 MB 3.5 MB/s eta 0:00:02\n",
            "     ------------------- -------------------- 4.6/9.4 MB 3.6 MB/s eta 0:00:02\n",
            "     -------------------- ------------------- 4.8/9.4 MB 3.6 MB/s eta 0:00:02\n",
            "     --------------------- ------------------ 5.0/9.4 MB 3.6 MB/s eta 0:00:02\n",
            "     ---------------------- ----------------- 5.2/9.4 MB 3.6 MB/s eta 0:00:02\n",
            "     ---------------------- ----------------- 5.3/9.4 MB 3.6 MB/s eta 0:00:02\n",
            "     ----------------------- ---------------- 5.5/9.4 MB 3.6 MB/s eta 0:00:02\n",
            "     ------------------------ --------------- 5.7/9.4 MB 3.6 MB/s eta 0:00:02\n",
            "     ------------------------- -------------- 5.9/9.4 MB 3.6 MB/s eta 0:00:01\n",
            "     ------------------------- -------------- 6.0/9.4 MB 3.6 MB/s eta 0:00:01\n",
            "     -------------------------- ------------- 6.3/9.4 MB 3.6 MB/s eta 0:00:01\n",
            "     --------------------------- ------------ 6.4/9.4 MB 3.6 MB/s eta 0:00:01\n",
            "     ---------------------------- ----------- 6.6/9.4 MB 3.7 MB/s eta 0:00:01\n",
            "     ---------------------------- ----------- 6.6/9.4 MB 3.7 MB/s eta 0:00:01\n",
            "     ---------------------------- ----------- 6.6/9.4 MB 3.5 MB/s eta 0:00:01\n",
            "     ----------------------------- ---------- 6.8/9.4 MB 3.5 MB/s eta 0:00:01\n",
            "     ------------------------------- -------- 7.3/9.4 MB 3.7 MB/s eta 0:00:01\n",
            "     -------------------------------- ------- 7.5/9.4 MB 3.7 MB/s eta 0:00:01\n",
            "     -------------------------------- ------- 7.7/9.4 MB 3.7 MB/s eta 0:00:01\n",
            "     --------------------------------- ------ 7.9/9.4 MB 3.7 MB/s eta 0:00:01\n",
            "     ---------------------------------- ----- 8.0/9.4 MB 3.7 MB/s eta 0:00:01\n",
            "     ---------------------------------- ----- 8.2/9.4 MB 3.7 MB/s eta 0:00:01\n",
            "     ------------------------------------ --- 8.4/9.4 MB 3.7 MB/s eta 0:00:01\n",
            "     ------------------------------------- -- 8.7/9.4 MB 3.7 MB/s eta 0:00:01\n",
            "     -------------------------------------- - 8.9/9.4 MB 3.7 MB/s eta 0:00:01\n",
            "     -------------------------------------- - 9.1/9.4 MB 3.7 MB/s eta 0:00:01\n",
            "     ---------------------------------------  9.2/9.4 MB 3.7 MB/s eta 0:00:01\n",
            "     ---------------------------------------  9.4/9.4 MB 3.7 MB/s eta 0:00:01\n",
            "     ---------------------------------------- 9.4/9.4 MB 3.7 MB/s eta 0:00:00\n",
            "Requirement already satisfied: python-dateutil>=2.8.2 in c:\\users\\sumair\\anaconda3\\envs\\mlproject\\lib\\site-packages (from pandas>=1.0.3->feature-engine) (2.8.2)\n",
            "Requirement already satisfied: pytz>=2020.1 in c:\\users\\sumair\\anaconda3\\envs\\mlproject\\lib\\site-packages (from pandas>=1.0.3->feature-engine) (2022.7.1)\n",
            "Requirement already satisfied: tzdata>=2022.1 in c:\\users\\sumair\\anaconda3\\envs\\mlproject\\lib\\site-packages (from pandas>=1.0.3->feature-engine) (2023.3)\n",
            "Requirement already satisfied: joblib>=1.1.1 in c:\\users\\sumair\\anaconda3\\envs\\mlproject\\lib\\site-packages (from scikit-learn>=1.0.0->feature-engine) (1.3.1)\n",
            "Requirement already satisfied: threadpoolctl>=2.0.0 in c:\\users\\sumair\\anaconda3\\envs\\mlproject\\lib\\site-packages (from scikit-learn>=1.0.0->feature-engine) (3.2.0)\n",
            "Collecting patsy>=0.5.2 (from statsmodels>=0.11.1->feature-engine)\n",
            "  Using cached patsy-0.5.3-py2.py3-none-any.whl (233 kB)\n",
            "Requirement already satisfied: packaging>=21.3 in c:\\users\\sumair\\anaconda3\\envs\\mlproject\\lib\\site-packages (from statsmodels>=0.11.1->feature-engine) (23.1)\n",
            "Requirement already satisfied: six in c:\\users\\sumair\\anaconda3\\envs\\mlproject\\lib\\site-packages (from patsy>=0.5.2->statsmodels>=0.11.1->feature-engine) (1.16.0)\n",
            "Using cached feature_engine-1.6.1-py2.py3-none-any.whl (326 kB)\n",
            "Installing collected packages: patsy, statsmodels, feature-engine\n",
            "Successfully installed feature-engine-1.6.1 patsy-0.5.3 statsmodels-0.14.0\n",
            "Collecting catboost\n",
            "  Using cached catboost-1.2-cp38-cp38-win_amd64.whl (101.0 MB)\n",
            "Collecting graphviz (from catboost)\n",
            "  Using cached graphviz-0.20.1-py3-none-any.whl (47 kB)\n",
            "Requirement already satisfied: matplotlib in c:\\users\\sumair\\anaconda3\\envs\\mlproject\\lib\\site-packages (from catboost) (3.7.2)\n",
            "Requirement already satisfied: numpy>=1.16.0 in c:\\users\\sumair\\anaconda3\\envs\\mlproject\\lib\\site-packages (from catboost) (1.24.4)\n",
            "Requirement already satisfied: pandas>=0.24 in c:\\users\\sumair\\anaconda3\\envs\\mlproject\\lib\\site-packages (from catboost) (2.0.3)\n",
            "Requirement already satisfied: scipy in c:\\users\\sumair\\anaconda3\\envs\\mlproject\\lib\\site-packages (from catboost) (1.10.1)\n",
            "Collecting plotly (from catboost)\n",
            "  Obtaining dependency information for plotly from https://files.pythonhosted.org/packages/a5/07/5bef9376c975ce23306d9217ab69ca94c07f2a3c90b17c03e3ae4db87170/plotly-5.15.0-py2.py3-none-any.whl.metadata\n",
            "  Using cached plotly-5.15.0-py2.py3-none-any.whl.metadata (7.0 kB)\n",
            "Requirement already satisfied: six in c:\\users\\sumair\\anaconda3\\envs\\mlproject\\lib\\site-packages (from catboost) (1.16.0)\n",
            "Requirement already satisfied: python-dateutil>=2.8.2 in c:\\users\\sumair\\anaconda3\\envs\\mlproject\\lib\\site-packages (from pandas>=0.24->catboost) (2.8.2)\n",
            "Requirement already satisfied: pytz>=2020.1 in c:\\users\\sumair\\anaconda3\\envs\\mlproject\\lib\\site-packages (from pandas>=0.24->catboost) (2022.7.1)\n",
            "Requirement already satisfied: tzdata>=2022.1 in c:\\users\\sumair\\anaconda3\\envs\\mlproject\\lib\\site-packages (from pandas>=0.24->catboost) (2023.3)\n",
            "Requirement already satisfied: contourpy>=1.0.1 in c:\\users\\sumair\\anaconda3\\envs\\mlproject\\lib\\site-packages (from matplotlib->catboost) (1.1.0)\n",
            "Requirement already satisfied: cycler>=0.10 in c:\\users\\sumair\\anaconda3\\envs\\mlproject\\lib\\site-packages (from matplotlib->catboost) (0.11.0)\n",
            "Requirement already satisfied: fonttools>=4.22.0 in c:\\users\\sumair\\anaconda3\\envs\\mlproject\\lib\\site-packages (from matplotlib->catboost) (4.41.1)\n",
            "Requirement already satisfied: kiwisolver>=1.0.1 in c:\\users\\sumair\\anaconda3\\envs\\mlproject\\lib\\site-packages (from matplotlib->catboost) (1.4.4)\n",
            "Requirement already satisfied: packaging>=20.0 in c:\\users\\sumair\\anaconda3\\envs\\mlproject\\lib\\site-packages (from matplotlib->catboost) (23.1)\n",
            "Requirement already satisfied: pillow>=6.2.0 in c:\\users\\sumair\\anaconda3\\envs\\mlproject\\lib\\site-packages (from matplotlib->catboost) (10.0.0)\n",
            "Requirement already satisfied: pyparsing<3.1,>=2.3.1 in c:\\users\\sumair\\anaconda3\\envs\\mlproject\\lib\\site-packages (from matplotlib->catboost) (3.0.9)\n",
            "Requirement already satisfied: importlib-resources>=3.2.0 in c:\\users\\sumair\\anaconda3\\envs\\mlproject\\lib\\site-packages (from matplotlib->catboost) (6.0.0)\n",
            "Collecting tenacity>=6.2.0 (from plotly->catboost)\n",
            "  Using cached tenacity-8.2.2-py3-none-any.whl (24 kB)\n",
            "Requirement already satisfied: zipp>=3.1.0 in c:\\users\\sumair\\anaconda3\\envs\\mlproject\\lib\\site-packages (from importlib-resources>=3.2.0->matplotlib->catboost) (3.16.2)\n",
            "Using cached plotly-5.15.0-py2.py3-none-any.whl (15.5 MB)\n",
            "Installing collected packages: tenacity, graphviz, plotly, catboost\n",
            "Successfully installed catboost-1.2 graphviz-0.20.1 plotly-5.15.0 tenacity-8.2.2\n"
          ]
        }
      ],
      "source": [
        "!pip install feature-engine\n",
        "!pip install seaborn\n",
        "!pip install xgboost\n",
        "!pip install catboost\n",
        "!pip install catboost"
      ]
    },
    {
      "cell_type": "code",
      "execution_count": 1,
      "metadata": {
        "id": "UNSEXrqa2ctH"
      },
      "outputs": [],
      "source": [
        "import pandas as pd                   # Data Manipulation\n",
        "import numpy as np                    # Numeric Calculation\n",
        "import seaborn as sns                 # Advance Data Visualization\n",
        "import matplotlib.pyplot as plt       # Data Visualization\n",
        "import scipy.stats as stats\n",
        "import pylab\n",
        "from sklearn.impute import SimpleImputer        #Imputation\n",
        "from sklearn.compose import ColumnTransformer   #Column Trasformer\n",
        "from sklearn.preprocessing import LabelEncoder  # Label Encoder\n",
        "from sklearn.preprocessing import MinMaxScaler  # MinMax Scalar\n",
        "import warnings   # Warnings\n",
        "warnings.filterwarnings('ignore')\n",
        "# Accuracy\n",
        "from sklearn.metrics import accuracy_score, confusion_matrix, classification_report, roc_curve, roc_auc_score\n",
        "import sklearn.metrics as skmet   # Confusion matrix\n",
        "from imblearn.over_sampling import SMOTE\n",
        "from feature_engine.outliers import Winsorizer    # Outlier treatment\n",
        "#import mysql.connector as sql   # for SQL connection"
      ]
    },
    {
      "cell_type": "code",
      "execution_count": 2,
      "metadata": {
        "id": "XBTfe406INuF"
      },
      "outputs": [],
      "source": [
        "# Modelling\n",
        "from sklearn.metrics import mean_squared_error, r2_score\n",
        "from sklearn.neighbors import KNeighborsRegressor\n",
        "from sklearn.tree import DecisionTreeRegressor\n",
        "from sklearn.ensemble import RandomForestRegressor,AdaBoostRegressor\n",
        "from sklearn.svm import SVR\n",
        "from sklearn.linear_model import LinearRegression, Ridge,Lasso\n",
        "from sklearn.metrics import r2_score, mean_absolute_error, mean_squared_error\n",
        "from sklearn.model_selection import RandomizedSearchCV\n",
        "from catboost import CatBoostRegressor\n",
        "from xgboost import XGBRegressor\n",
        "import warnings"
      ]
    },
    {
      "cell_type": "markdown",
      "metadata": {},
      "source": [
        "#### Import the CSV Data as Pandas DataFrame"
      ]
    },
    {
      "cell_type": "code",
      "execution_count": 8,
      "metadata": {
        "id": "x9hNssFR2cqq"
      },
      "outputs": [],
      "source": [
        "\n",
        "df=pd.read_csv('transformed_data.csv')\n"
      ]
    },
    {
      "cell_type": "markdown",
      "metadata": {},
      "source": [
        "#### Show Top 5 Records"
      ]
    },
    {
      "cell_type": "code",
      "execution_count": 9,
      "metadata": {
        "colab": {
          "base_uri": "https://localhost:8080/",
          "height": 421
        },
        "id": "fbOzkeNEIYu_",
        "outputId": "efae88ff-1a37-4351-8def-98b6483f081e"
      },
      "outputs": [
        {
          "data": {
            "text/html": [
              "<div>\n",
              "<style scoped>\n",
              "    .dataframe tbody tr th:only-of-type {\n",
              "        vertical-align: middle;\n",
              "    }\n",
              "\n",
              "    .dataframe tbody tr th {\n",
              "        vertical-align: top;\n",
              "    }\n",
              "\n",
              "    .dataframe thead th {\n",
              "        text-align: right;\n",
              "    }\n",
              "</style>\n",
              "<table border=\"1\" class=\"dataframe\">\n",
              "  <thead>\n",
              "    <tr style=\"text-align: right;\">\n",
              "      <th></th>\n",
              "      <th>D Gender_Female</th>\n",
              "      <th>D Gender_Male</th>\n",
              "      <th>D Cause of Death_Accident</th>\n",
              "      <th>D Cause of Death_Other</th>\n",
              "      <th>D Cause of Death_Stroke</th>\n",
              "      <th>R Etiology_Alcohol</th>\n",
              "      <th>R Etiology_Hepatitis</th>\n",
              "      <th>R Etiology_NAFLD</th>\n",
              "      <th>R Etiology_Other</th>\n",
              "      <th>R Gender_Female</th>\n",
              "      <th>...</th>\n",
              "      <th>R Primary biliary cirrhosis</th>\n",
              "      <th>R Na</th>\n",
              "      <th>R Mg</th>\n",
              "      <th>R WBC</th>\n",
              "      <th>R Platelets</th>\n",
              "      <th>R Cold Ischemia Time</th>\n",
              "      <th>R Warm Ischemia Time</th>\n",
              "      <th>R Blood Transfusion</th>\n",
              "      <th>R Rejection Episodes</th>\n",
              "      <th>Complications</th>\n",
              "    </tr>\n",
              "  </thead>\n",
              "  <tbody>\n",
              "    <tr>\n",
              "      <th>0</th>\n",
              "      <td>1.0</td>\n",
              "      <td>0.0</td>\n",
              "      <td>0.0</td>\n",
              "      <td>0.0</td>\n",
              "      <td>1.0</td>\n",
              "      <td>0.0</td>\n",
              "      <td>0.0</td>\n",
              "      <td>0.0</td>\n",
              "      <td>1.0</td>\n",
              "      <td>1.0</td>\n",
              "      <td>...</td>\n",
              "      <td>-0.950839</td>\n",
              "      <td>-0.742726</td>\n",
              "      <td>1.415198</td>\n",
              "      <td>1.112170</td>\n",
              "      <td>1.107433</td>\n",
              "      <td>-1.116739</td>\n",
              "      <td>-1.112763</td>\n",
              "      <td>-0.984638</td>\n",
              "      <td>0.651770</td>\n",
              "      <td>3</td>\n",
              "    </tr>\n",
              "    <tr>\n",
              "      <th>1</th>\n",
              "      <td>1.0</td>\n",
              "      <td>0.0</td>\n",
              "      <td>0.0</td>\n",
              "      <td>1.0</td>\n",
              "      <td>0.0</td>\n",
              "      <td>1.0</td>\n",
              "      <td>0.0</td>\n",
              "      <td>0.0</td>\n",
              "      <td>0.0</td>\n",
              "      <td>0.0</td>\n",
              "      <td>...</td>\n",
              "      <td>-0.373388</td>\n",
              "      <td>-0.925476</td>\n",
              "      <td>-0.920968</td>\n",
              "      <td>1.112170</td>\n",
              "      <td>1.107433</td>\n",
              "      <td>-1.116739</td>\n",
              "      <td>0.028925</td>\n",
              "      <td>-0.984638</td>\n",
              "      <td>-1.130983</td>\n",
              "      <td>0</td>\n",
              "    </tr>\n",
              "    <tr>\n",
              "      <th>2</th>\n",
              "      <td>0.0</td>\n",
              "      <td>1.0</td>\n",
              "      <td>1.0</td>\n",
              "      <td>0.0</td>\n",
              "      <td>0.0</td>\n",
              "      <td>0.0</td>\n",
              "      <td>1.0</td>\n",
              "      <td>0.0</td>\n",
              "      <td>0.0</td>\n",
              "      <td>1.0</td>\n",
              "      <td>...</td>\n",
              "      <td>-0.950839</td>\n",
              "      <td>1.430339</td>\n",
              "      <td>1.304999</td>\n",
              "      <td>-1.122632</td>\n",
              "      <td>-0.243902</td>\n",
              "      <td>0.224812</td>\n",
              "      <td>-0.354591</td>\n",
              "      <td>-0.984638</td>\n",
              "      <td>1.125776</td>\n",
              "      <td>7</td>\n",
              "    </tr>\n",
              "    <tr>\n",
              "      <th>3</th>\n",
              "      <td>1.0</td>\n",
              "      <td>0.0</td>\n",
              "      <td>0.0</td>\n",
              "      <td>1.0</td>\n",
              "      <td>0.0</td>\n",
              "      <td>0.0</td>\n",
              "      <td>0.0</td>\n",
              "      <td>1.0</td>\n",
              "      <td>0.0</td>\n",
              "      <td>1.0</td>\n",
              "      <td>...</td>\n",
              "      <td>-0.950839</td>\n",
              "      <td>1.430339</td>\n",
              "      <td>1.047762</td>\n",
              "      <td>1.112170</td>\n",
              "      <td>-1.121642</td>\n",
              "      <td>1.118280</td>\n",
              "      <td>-0.929864</td>\n",
              "      <td>-0.984638</td>\n",
              "      <td>-1.130983</td>\n",
              "      <td>7</td>\n",
              "    </tr>\n",
              "    <tr>\n",
              "      <th>4</th>\n",
              "      <td>1.0</td>\n",
              "      <td>0.0</td>\n",
              "      <td>1.0</td>\n",
              "      <td>0.0</td>\n",
              "      <td>0.0</td>\n",
              "      <td>1.0</td>\n",
              "      <td>0.0</td>\n",
              "      <td>0.0</td>\n",
              "      <td>0.0</td>\n",
              "      <td>0.0</td>\n",
              "      <td>...</td>\n",
              "      <td>1.369962</td>\n",
              "      <td>-0.272350</td>\n",
              "      <td>0.790525</td>\n",
              "      <td>0.279956</td>\n",
              "      <td>1.107433</td>\n",
              "      <td>-1.116739</td>\n",
              "      <td>-1.112763</td>\n",
              "      <td>1.015602</td>\n",
              "      <td>0.651770</td>\n",
              "      <td>10</td>\n",
              "    </tr>\n",
              "  </tbody>\n",
              "</table>\n",
              "<p>5 rows × 45 columns</p>\n",
              "</div>"
            ],
            "text/plain": [
              "   D Gender_Female  D Gender_Male  D Cause of Death_Accident  \\\n",
              "0              1.0            0.0                        0.0   \n",
              "1              1.0            0.0                        0.0   \n",
              "2              0.0            1.0                        1.0   \n",
              "3              1.0            0.0                        0.0   \n",
              "4              1.0            0.0                        1.0   \n",
              "\n",
              "   D Cause of Death_Other  D Cause of Death_Stroke  R Etiology_Alcohol  \\\n",
              "0                     0.0                      1.0                 0.0   \n",
              "1                     1.0                      0.0                 1.0   \n",
              "2                     0.0                      0.0                 0.0   \n",
              "3                     1.0                      0.0                 0.0   \n",
              "4                     0.0                      0.0                 1.0   \n",
              "\n",
              "   R Etiology_Hepatitis  R Etiology_NAFLD  R Etiology_Other  R Gender_Female  \\\n",
              "0                   0.0               0.0               1.0              1.0   \n",
              "1                   0.0               0.0               0.0              0.0   \n",
              "2                   1.0               0.0               0.0              1.0   \n",
              "3                   0.0               1.0               0.0              1.0   \n",
              "4                   0.0               0.0               0.0              0.0   \n",
              "\n",
              "   ...  R Primary biliary cirrhosis      R Na      R Mg     R WBC  \\\n",
              "0  ...                    -0.950839 -0.742726  1.415198  1.112170   \n",
              "1  ...                    -0.373388 -0.925476 -0.920968  1.112170   \n",
              "2  ...                    -0.950839  1.430339  1.304999 -1.122632   \n",
              "3  ...                    -0.950839  1.430339  1.047762  1.112170   \n",
              "4  ...                     1.369962 -0.272350  0.790525  0.279956   \n",
              "\n",
              "   R Platelets  R Cold Ischemia Time  R Warm Ischemia Time  \\\n",
              "0     1.107433             -1.116739             -1.112763   \n",
              "1     1.107433             -1.116739              0.028925   \n",
              "2    -0.243902              0.224812             -0.354591   \n",
              "3    -1.121642              1.118280             -0.929864   \n",
              "4     1.107433             -1.116739             -1.112763   \n",
              "\n",
              "   R Blood Transfusion  R Rejection Episodes  Complications  \n",
              "0            -0.984638              0.651770              3  \n",
              "1            -0.984638             -1.130983              0  \n",
              "2            -0.984638              1.125776              7  \n",
              "3            -0.984638             -1.130983              7  \n",
              "4             1.015602              0.651770             10  \n",
              "\n",
              "[5 rows x 45 columns]"
            ]
          },
          "execution_count": 9,
          "metadata": {},
          "output_type": "execute_result"
        }
      ],
      "source": [
        "df.head()"
      ]
    },
    {
      "cell_type": "markdown",
      "metadata": {},
      "source": [
        "#### Drop unnecessary columns"
      ]
    },
    {
      "cell_type": "code",
      "execution_count": 10,
      "metadata": {},
      "outputs": [
        {
          "data": {
            "text/plain": [
              "Index(['D Gender_Female', 'D Gender_Male', 'D Cause of Death_Accident',\n",
              "       'D Cause of Death_Other', 'D Cause of Death_Stroke',\n",
              "       'R Etiology_Alcohol', 'R Etiology_Hepatitis', 'R Etiology_NAFLD',\n",
              "       'R Etiology_Other', 'R Gender_Female', 'R Gender_Male',\n",
              "       'R Immunosuppressant Medication_Cyclosporine',\n",
              "       'R Immunosuppressant Medication_Other',\n",
              "       'R Immunosuppressant Medication_Tacrolimus', 'D Age', 'D BMI',\n",
              "       'D Diabetes', 'D Hypertension', 'D Alcohol Abuse', 'D Smoking',\n",
              "       'D Lympochyte', 'D Hepatitis B', 'D Hepatitis C', 'R MELD Score',\n",
              "       'R Age', 'R BMI', 'R Diabetes', 'R Hypertension', 'R Alcohol Abuse',\n",
              "       'R Smoking', 'R Lympochyte', 'R Hepatitis B', 'R Hepatitis C',\n",
              "       'R Albumin level', 'R Alcoholic cirrhosis',\n",
              "       'R Primary biliary cirrhosis', 'R Na', 'R Mg', 'R WBC', 'R Platelets',\n",
              "       'R Cold Ischemia Time', 'R Warm Ischemia Time', 'R Blood Transfusion',\n",
              "       'R Rejection Episodes', 'Complications'],\n",
              "      dtype='object')"
            ]
          },
          "execution_count": 10,
          "metadata": {},
          "output_type": "execute_result"
        }
      ],
      "source": [
        "df.columns\n"
      ]
    },
    {
      "cell_type": "code",
      "execution_count": 11,
      "metadata": {},
      "outputs": [
        {
          "data": {
            "text/plain": [
              "(2783, 45)"
            ]
          },
          "execution_count": 11,
          "metadata": {},
          "output_type": "execute_result"
        }
      ],
      "source": [
        "df.shape"
      ]
    },
    {
      "cell_type": "markdown",
      "metadata": {},
      "source": [
        "#### Preparing X and Y variables"
      ]
    },
    {
      "cell_type": "code",
      "execution_count": 14,
      "metadata": {
        "id": "UQTqy_afKzT_"
      },
      "outputs": [],
      "source": [
        "X = df.drop(columns=['Complications'],axis=1)"
      ]
    },
    {
      "cell_type": "code",
      "execution_count": 15,
      "metadata": {
        "colab": {
          "base_uri": "https://localhost:8080/",
          "height": 351
        },
        "id": "aOXMUj7-Lxee",
        "outputId": "ff87e07d-5e87-4f46-942a-450919ec1d71"
      },
      "outputs": [
        {
          "data": {
            "text/html": [
              "<div>\n",
              "<style scoped>\n",
              "    .dataframe tbody tr th:only-of-type {\n",
              "        vertical-align: middle;\n",
              "    }\n",
              "\n",
              "    .dataframe tbody tr th {\n",
              "        vertical-align: top;\n",
              "    }\n",
              "\n",
              "    .dataframe thead th {\n",
              "        text-align: right;\n",
              "    }\n",
              "</style>\n",
              "<table border=\"1\" class=\"dataframe\">\n",
              "  <thead>\n",
              "    <tr style=\"text-align: right;\">\n",
              "      <th></th>\n",
              "      <th>D Gender_Female</th>\n",
              "      <th>D Gender_Male</th>\n",
              "      <th>D Cause of Death_Accident</th>\n",
              "      <th>D Cause of Death_Other</th>\n",
              "      <th>D Cause of Death_Stroke</th>\n",
              "      <th>R Etiology_Alcohol</th>\n",
              "      <th>R Etiology_Hepatitis</th>\n",
              "      <th>R Etiology_NAFLD</th>\n",
              "      <th>R Etiology_Other</th>\n",
              "      <th>R Gender_Female</th>\n",
              "      <th>...</th>\n",
              "      <th>R Alcoholic cirrhosis</th>\n",
              "      <th>R Primary biliary cirrhosis</th>\n",
              "      <th>R Na</th>\n",
              "      <th>R Mg</th>\n",
              "      <th>R WBC</th>\n",
              "      <th>R Platelets</th>\n",
              "      <th>R Cold Ischemia Time</th>\n",
              "      <th>R Warm Ischemia Time</th>\n",
              "      <th>R Blood Transfusion</th>\n",
              "      <th>R Rejection Episodes</th>\n",
              "    </tr>\n",
              "  </thead>\n",
              "  <tbody>\n",
              "    <tr>\n",
              "      <th>0</th>\n",
              "      <td>1.0</td>\n",
              "      <td>0.0</td>\n",
              "      <td>0.0</td>\n",
              "      <td>0.0</td>\n",
              "      <td>1.0</td>\n",
              "      <td>0.0</td>\n",
              "      <td>0.0</td>\n",
              "      <td>0.0</td>\n",
              "      <td>1.0</td>\n",
              "      <td>1.0</td>\n",
              "      <td>...</td>\n",
              "      <td>1.145921</td>\n",
              "      <td>-0.950839</td>\n",
              "      <td>-0.742726</td>\n",
              "      <td>1.415198</td>\n",
              "      <td>1.112170</td>\n",
              "      <td>1.107433</td>\n",
              "      <td>-1.116739</td>\n",
              "      <td>-1.112763</td>\n",
              "      <td>-0.984638</td>\n",
              "      <td>0.651770</td>\n",
              "    </tr>\n",
              "    <tr>\n",
              "      <th>1</th>\n",
              "      <td>1.0</td>\n",
              "      <td>0.0</td>\n",
              "      <td>0.0</td>\n",
              "      <td>1.0</td>\n",
              "      <td>0.0</td>\n",
              "      <td>1.0</td>\n",
              "      <td>0.0</td>\n",
              "      <td>0.0</td>\n",
              "      <td>0.0</td>\n",
              "      <td>0.0</td>\n",
              "      <td>...</td>\n",
              "      <td>1.145921</td>\n",
              "      <td>-0.373388</td>\n",
              "      <td>-0.925476</td>\n",
              "      <td>-0.920968</td>\n",
              "      <td>1.112170</td>\n",
              "      <td>1.107433</td>\n",
              "      <td>-1.116739</td>\n",
              "      <td>0.028925</td>\n",
              "      <td>-0.984638</td>\n",
              "      <td>-1.130983</td>\n",
              "    </tr>\n",
              "    <tr>\n",
              "      <th>2</th>\n",
              "      <td>0.0</td>\n",
              "      <td>1.0</td>\n",
              "      <td>1.0</td>\n",
              "      <td>0.0</td>\n",
              "      <td>0.0</td>\n",
              "      <td>0.0</td>\n",
              "      <td>1.0</td>\n",
              "      <td>0.0</td>\n",
              "      <td>0.0</td>\n",
              "      <td>1.0</td>\n",
              "      <td>...</td>\n",
              "      <td>1.145921</td>\n",
              "      <td>-0.950839</td>\n",
              "      <td>1.430339</td>\n",
              "      <td>1.304999</td>\n",
              "      <td>-1.122632</td>\n",
              "      <td>-0.243902</td>\n",
              "      <td>0.224812</td>\n",
              "      <td>-0.354591</td>\n",
              "      <td>-0.984638</td>\n",
              "      <td>1.125776</td>\n",
              "    </tr>\n",
              "    <tr>\n",
              "      <th>3</th>\n",
              "      <td>1.0</td>\n",
              "      <td>0.0</td>\n",
              "      <td>0.0</td>\n",
              "      <td>1.0</td>\n",
              "      <td>0.0</td>\n",
              "      <td>0.0</td>\n",
              "      <td>0.0</td>\n",
              "      <td>1.0</td>\n",
              "      <td>0.0</td>\n",
              "      <td>1.0</td>\n",
              "      <td>...</td>\n",
              "      <td>-1.109188</td>\n",
              "      <td>-0.950839</td>\n",
              "      <td>1.430339</td>\n",
              "      <td>1.047762</td>\n",
              "      <td>1.112170</td>\n",
              "      <td>-1.121642</td>\n",
              "      <td>1.118280</td>\n",
              "      <td>-0.929864</td>\n",
              "      <td>-0.984638</td>\n",
              "      <td>-1.130983</td>\n",
              "    </tr>\n",
              "    <tr>\n",
              "      <th>4</th>\n",
              "      <td>1.0</td>\n",
              "      <td>0.0</td>\n",
              "      <td>1.0</td>\n",
              "      <td>0.0</td>\n",
              "      <td>0.0</td>\n",
              "      <td>1.0</td>\n",
              "      <td>0.0</td>\n",
              "      <td>0.0</td>\n",
              "      <td>0.0</td>\n",
              "      <td>0.0</td>\n",
              "      <td>...</td>\n",
              "      <td>1.145921</td>\n",
              "      <td>1.369962</td>\n",
              "      <td>-0.272350</td>\n",
              "      <td>0.790525</td>\n",
              "      <td>0.279956</td>\n",
              "      <td>1.107433</td>\n",
              "      <td>-1.116739</td>\n",
              "      <td>-1.112763</td>\n",
              "      <td>1.015602</td>\n",
              "      <td>0.651770</td>\n",
              "    </tr>\n",
              "  </tbody>\n",
              "</table>\n",
              "<p>5 rows × 44 columns</p>\n",
              "</div>"
            ],
            "text/plain": [
              "   D Gender_Female  D Gender_Male  D Cause of Death_Accident  \\\n",
              "0              1.0            0.0                        0.0   \n",
              "1              1.0            0.0                        0.0   \n",
              "2              0.0            1.0                        1.0   \n",
              "3              1.0            0.0                        0.0   \n",
              "4              1.0            0.0                        1.0   \n",
              "\n",
              "   D Cause of Death_Other  D Cause of Death_Stroke  R Etiology_Alcohol  \\\n",
              "0                     0.0                      1.0                 0.0   \n",
              "1                     1.0                      0.0                 1.0   \n",
              "2                     0.0                      0.0                 0.0   \n",
              "3                     1.0                      0.0                 0.0   \n",
              "4                     0.0                      0.0                 1.0   \n",
              "\n",
              "   R Etiology_Hepatitis  R Etiology_NAFLD  R Etiology_Other  R Gender_Female  \\\n",
              "0                   0.0               0.0               1.0              1.0   \n",
              "1                   0.0               0.0               0.0              0.0   \n",
              "2                   1.0               0.0               0.0              1.0   \n",
              "3                   0.0               1.0               0.0              1.0   \n",
              "4                   0.0               0.0               0.0              0.0   \n",
              "\n",
              "   ...  R Alcoholic cirrhosis  R Primary biliary cirrhosis      R Na  \\\n",
              "0  ...               1.145921                    -0.950839 -0.742726   \n",
              "1  ...               1.145921                    -0.373388 -0.925476   \n",
              "2  ...               1.145921                    -0.950839  1.430339   \n",
              "3  ...              -1.109188                    -0.950839  1.430339   \n",
              "4  ...               1.145921                     1.369962 -0.272350   \n",
              "\n",
              "       R Mg     R WBC  R Platelets  R Cold Ischemia Time  \\\n",
              "0  1.415198  1.112170     1.107433             -1.116739   \n",
              "1 -0.920968  1.112170     1.107433             -1.116739   \n",
              "2  1.304999 -1.122632    -0.243902              0.224812   \n",
              "3  1.047762  1.112170    -1.121642              1.118280   \n",
              "4  0.790525  0.279956     1.107433             -1.116739   \n",
              "\n",
              "   R Warm Ischemia Time  R Blood Transfusion  R Rejection Episodes  \n",
              "0             -1.112763            -0.984638              0.651770  \n",
              "1              0.028925            -0.984638             -1.130983  \n",
              "2             -0.354591            -0.984638              1.125776  \n",
              "3             -0.929864            -0.984638             -1.130983  \n",
              "4             -1.112763             1.015602              0.651770  \n",
              "\n",
              "[5 rows x 44 columns]"
            ]
          },
          "execution_count": 15,
          "metadata": {},
          "output_type": "execute_result"
        }
      ],
      "source": [
        "X.head()"
      ]
    },
    {
      "cell_type": "code",
      "execution_count": 17,
      "metadata": {
        "id": "-9_hdJIJL8Up"
      },
      "outputs": [],
      "source": [
        "y = df['Complications']"
      ]
    },
    {
      "cell_type": "code",
      "execution_count": 18,
      "metadata": {
        "colab": {
          "base_uri": "https://localhost:8080/"
        },
        "id": "BoxkqGugL8RE",
        "outputId": "bfbb2147-f28d-4d46-8c9f-51f2b0930e3e"
      },
      "outputs": [
        {
          "data": {
            "text/plain": [
              "0        3\n",
              "1        0\n",
              "2        7\n",
              "3        7\n",
              "4       10\n",
              "        ..\n",
              "2778    10\n",
              "2779    10\n",
              "2780    10\n",
              "2781    10\n",
              "2782    10\n",
              "Name: Complications, Length: 2783, dtype: int64"
            ]
          },
          "execution_count": 18,
          "metadata": {},
          "output_type": "execute_result"
        }
      ],
      "source": [
        "y"
      ]
    },
    {
      "cell_type": "markdown",
      "metadata": {},
      "source": [
        "#### check y is Balanced or Imbalanced"
      ]
    },
    {
      "cell_type": "code",
      "execution_count": 19,
      "metadata": {
        "colab": {
          "base_uri": "https://localhost:8080/"
        },
        "id": "KP0zuL1UNDsf",
        "outputId": "8f67106a-6ebc-4592-e8ff-eb1c6c4cbf82"
      },
      "outputs": [
        {
          "name": "stdout",
          "output_type": "stream",
          "text": [
            "Complications\n",
            "3     253\n",
            "0     253\n",
            "7     253\n",
            "10    253\n",
            "5     253\n",
            "8     253\n",
            "6     253\n",
            "1     253\n",
            "4     253\n",
            "2     253\n",
            "9     253\n",
            "Name: count, dtype: int64\n"
          ]
        }
      ],
      "source": [
        "# Target variable categories\n",
        "# print(df3['Complications'].unique())\n",
        "print(df['Complications'].value_counts())"
      ]
    },
    {
      "cell_type": "markdown",
      "metadata": {},
      "source": [
        "#### Perform label encoding on y-categorical column"
      ]
    },
    {
      "cell_type": "code",
      "execution_count": 21,
      "metadata": {
        "id": "NvYqvM1TL8Nk"
      },
      "outputs": [],
      "source": [
        "# Create Column Transformer with 3 types of transformers\n",
        "num_features = X.select_dtypes(exclude=\"object\").columns\n",
        "cat_features = X.select_dtypes(include=\"object\").columns\n",
        "\n",
        "from sklearn.preprocessing import OneHotEncoder, StandardScaler\n",
        "from sklearn.compose import ColumnTransformer\n",
        "\n",
        "numeric_transformer = StandardScaler()\n",
        "oh_transformer = OneHotEncoder()\n",
        "\n",
        "preprocessor = ColumnTransformer(\n",
        "    [\n",
        "        (\"OneHotEncoder\", oh_transformer, cat_features),\n",
        "         (\"StandardScaler\", numeric_transformer, num_features),\n",
        "    ]\n",
        ")"
      ]
    },
    {
      "cell_type": "code",
      "execution_count": 22,
      "metadata": {
        "id": "_iA3Jq3vMK5g"
      },
      "outputs": [],
      "source": [
        "X = preprocessor.fit_transform(X)"
      ]
    },
    {
      "cell_type": "code",
      "execution_count": 23,
      "metadata": {
        "colab": {
          "base_uri": "https://localhost:8080/"
        },
        "id": "2Csqjor6MK2n",
        "outputId": "7795163b-1f90-4a18-efdf-2e34779a06b7"
      },
      "outputs": [
        {
          "data": {
            "text/plain": [
              "(2783, 44)"
            ]
          },
          "execution_count": 23,
          "metadata": {},
          "output_type": "execute_result"
        }
      ],
      "source": [
        "X.shape"
      ]
    },
    {
      "cell_type": "code",
      "execution_count": 25,
      "metadata": {
        "colab": {
          "base_uri": "https://localhost:8080/"
        },
        "id": "_erDJT5yMKzs",
        "outputId": "cec93023-972e-4090-e93f-0b88fd9d7522"
      },
      "outputs": [
        {
          "data": {
            "text/plain": [
              "((2226, 44), (557, 44))"
            ]
          },
          "execution_count": 25,
          "metadata": {},
          "output_type": "execute_result"
        }
      ],
      "source": [
        "# separate dataset into train and test\n",
        "from sklearn.model_selection import train_test_split\n",
        "X_train, X_test, y_train, y_test = train_test_split(X,y,test_size=0.2,random_state=42)\n",
        "X_train.shape, X_test.shape"
      ]
    },
    {
      "cell_type": "markdown",
      "metadata": {},
      "source": [
        "#### Create an Evaluate Function to give all metrics after model Training"
      ]
    },
    {
      "cell_type": "code",
      "execution_count": 26,
      "metadata": {
        "id": "RcKUfvbjMd4B"
      },
      "outputs": [],
      "source": [
        "def evaluate_model(true, predicted):\n",
        "    mae = mean_absolute_error(true, predicted)\n",
        "    mse = mean_squared_error(true, predicted)\n",
        "    rmse = np.sqrt(mean_squared_error(true, predicted))\n",
        "    r2_square = r2_score(true, predicted)\n",
        "    return mae, rmse, r2_square"
      ]
    },
    {
      "cell_type": "code",
      "execution_count": 27,
      "metadata": {
        "colab": {
          "base_uri": "https://localhost:8080/"
        },
        "id": "O5NAIODHMd03",
        "outputId": "c2a40d19-0383-42fb-b49f-1b79829ddc3d"
      },
      "outputs": [
        {
          "name": "stdout",
          "output_type": "stream",
          "text": [
            "Linear Regression\n",
            "Model performance for Training set\n",
            "- Root Mean Squared Error: 2.0639\n",
            "- Mean Absolute Error: 1.6925\n",
            "- R2 Score: 0.5776\n",
            "----------------------------------\n",
            "Model performance for Test set\n",
            "- Root Mean Squared Error: 2.0855\n",
            "- Mean Absolute Error: 1.7119\n",
            "- R2 Score: 0.5498\n",
            "===================================\n",
            "\n",
            "\n",
            "Lasso\n",
            "Model performance for Training set\n",
            "- Root Mean Squared Error: 2.8779\n",
            "- Mean Absolute Error: 2.5076\n",
            "- R2 Score: 0.1788\n",
            "----------------------------------\n",
            "Model performance for Test set\n",
            "- Root Mean Squared Error: 2.8200\n",
            "- Mean Absolute Error: 2.4550\n",
            "- R2 Score: 0.1768\n",
            "===================================\n",
            "\n",
            "\n",
            "Ridge\n",
            "Model performance for Training set\n",
            "- Root Mean Squared Error: 2.0585\n",
            "- Mean Absolute Error: 1.6888\n",
            "- R2 Score: 0.5798\n",
            "----------------------------------\n",
            "Model performance for Test set\n",
            "- Root Mean Squared Error: 2.0776\n",
            "- Mean Absolute Error: 1.7068\n",
            "- R2 Score: 0.5532\n",
            "===================================\n",
            "\n",
            "\n",
            "K-Neighbors Regressor\n",
            "Model performance for Training set\n",
            "- Root Mean Squared Error: 1.8404\n",
            "- Mean Absolute Error: 1.2600\n",
            "- R2 Score: 0.6641\n",
            "----------------------------------\n",
            "Model performance for Test set\n",
            "- Root Mean Squared Error: 2.2086\n",
            "- Mean Absolute Error: 1.5677\n",
            "- R2 Score: 0.4951\n",
            "===================================\n",
            "\n",
            "\n",
            "Decision Tree\n",
            "Model performance for Training set\n",
            "- Root Mean Squared Error: 0.0000\n",
            "- Mean Absolute Error: 0.0000\n",
            "- R2 Score: 1.0000\n",
            "----------------------------------\n",
            "Model performance for Test set\n",
            "- Root Mean Squared Error: 0.7077\n",
            "- Mean Absolute Error: 0.1095\n",
            "- R2 Score: 0.9481\n",
            "===================================\n",
            "\n",
            "\n",
            "Random Forest Regressor\n",
            "Model performance for Training set\n",
            "- Root Mean Squared Error: 0.2015\n",
            "- Mean Absolute Error: 0.0508\n",
            "- R2 Score: 0.9960\n",
            "----------------------------------\n",
            "Model performance for Test set\n",
            "- Root Mean Squared Error: 0.3177\n",
            "- Mean Absolute Error: 0.1025\n",
            "- R2 Score: 0.9896\n",
            "===================================\n",
            "\n",
            "\n",
            "XGBRegressor\n",
            "Model performance for Training set\n",
            "- Root Mean Squared Error: 0.0141\n",
            "- Mean Absolute Error: 0.0101\n",
            "- R2 Score: 1.0000\n",
            "----------------------------------\n",
            "Model performance for Test set\n",
            "- Root Mean Squared Error: 0.3931\n",
            "- Mean Absolute Error: 0.2209\n",
            "- R2 Score: 0.9840\n",
            "===================================\n",
            "\n",
            "\n",
            "CatBoosting Regressor\n",
            "Model performance for Training set\n",
            "- Root Mean Squared Error: 0.0794\n",
            "- Mean Absolute Error: 0.0549\n",
            "- R2 Score: 0.9994\n",
            "----------------------------------\n",
            "Model performance for Test set\n",
            "- Root Mean Squared Error: 0.3521\n",
            "- Mean Absolute Error: 0.1981\n",
            "- R2 Score: 0.9872\n",
            "===================================\n",
            "\n",
            "\n",
            "AdaBoost Regressor\n",
            "Model performance for Training set\n",
            "- Root Mean Squared Error: 1.9106\n",
            "- Mean Absolute Error: 1.6412\n",
            "- R2 Score: 0.6380\n",
            "----------------------------------\n",
            "Model performance for Test set\n",
            "- Root Mean Squared Error: 1.8951\n",
            "- Mean Absolute Error: 1.6251\n",
            "- R2 Score: 0.6282\n",
            "===================================\n",
            "\n",
            "\n"
          ]
        }
      ],
      "source": [
        "models = {\n",
        "    \"Linear Regression\": LinearRegression(),\n",
        "    \"Lasso\": Lasso(),\n",
        "    \"Ridge\": Ridge(),\n",
        "    \"K-Neighbors Regressor\": KNeighborsRegressor(),\n",
        "    \"Decision Tree\": DecisionTreeRegressor(),\n",
        "    \"Random Forest Regressor\": RandomForestRegressor(),\n",
        "    \"XGBRegressor\": XGBRegressor(),\n",
        "    \"CatBoosting Regressor\": CatBoostRegressor(verbose=False),\n",
        "    \"AdaBoost Regressor\": AdaBoostRegressor()\n",
        "}\n",
        "model_list = []\n",
        "r2_list =[]\n",
        "\n",
        "for i in range(len(list(models))):\n",
        "    model = list(models.values())[i]\n",
        "    model.fit(X_train, y_train) # Train model\n",
        "\n",
        "    # Make predictions\n",
        "    y_train_pred = model.predict(X_train)\n",
        "    y_test_pred = model.predict(X_test)\n",
        "\n",
        "    # Evaluate Train and Test dataset\n",
        "    model_train_mae , model_train_rmse, model_train_r2 = evaluate_model(y_train, y_train_pred)\n",
        "\n",
        "    model_test_mae , model_test_rmse, model_test_r2 = evaluate_model(y_test, y_test_pred)\n",
        "\n",
        "\n",
        "    print(list(models.keys())[i])\n",
        "    model_list.append(list(models.keys())[i])\n",
        "\n",
        "    print('Model performance for Training set')\n",
        "    print(\"- Root Mean Squared Error: {:.4f}\".format(model_train_rmse))\n",
        "    print(\"- Mean Absolute Error: {:.4f}\".format(model_train_mae))\n",
        "    print(\"- R2 Score: {:.4f}\".format(model_train_r2))\n",
        "\n",
        "    print('----------------------------------')\n",
        "\n",
        "    print('Model performance for Test set')\n",
        "    print(\"- Root Mean Squared Error: {:.4f}\".format(model_test_rmse))\n",
        "    print(\"- Mean Absolute Error: {:.4f}\".format(model_test_mae))\n",
        "    print(\"- R2 Score: {:.4f}\".format(model_test_r2))\n",
        "    r2_list.append(model_test_r2)\n",
        "\n",
        "    print('='*35)\n",
        "    print('\\n')"
      ]
    },
    {
      "cell_type": "markdown",
      "metadata": {},
      "source": [
        "### Results"
      ]
    },
    {
      "cell_type": "code",
      "execution_count": 28,
      "metadata": {
        "colab": {
          "base_uri": "https://localhost:8080/",
          "height": 331
        },
        "id": "uM-Zu8vPMdx9",
        "outputId": "6c3198a5-eff8-447c-eb1c-e60597e6a00d"
      },
      "outputs": [
        {
          "data": {
            "text/html": [
              "<div>\n",
              "<style scoped>\n",
              "    .dataframe tbody tr th:only-of-type {\n",
              "        vertical-align: middle;\n",
              "    }\n",
              "\n",
              "    .dataframe tbody tr th {\n",
              "        vertical-align: top;\n",
              "    }\n",
              "\n",
              "    .dataframe thead th {\n",
              "        text-align: right;\n",
              "    }\n",
              "</style>\n",
              "<table border=\"1\" class=\"dataframe\">\n",
              "  <thead>\n",
              "    <tr style=\"text-align: right;\">\n",
              "      <th></th>\n",
              "      <th>Model Name</th>\n",
              "      <th>R2_Score</th>\n",
              "    </tr>\n",
              "  </thead>\n",
              "  <tbody>\n",
              "    <tr>\n",
              "      <th>5</th>\n",
              "      <td>Random Forest Regressor</td>\n",
              "      <td>0.989552</td>\n",
              "    </tr>\n",
              "    <tr>\n",
              "      <th>7</th>\n",
              "      <td>CatBoosting Regressor</td>\n",
              "      <td>0.987169</td>\n",
              "    </tr>\n",
              "    <tr>\n",
              "      <th>6</th>\n",
              "      <td>XGBRegressor</td>\n",
              "      <td>0.984006</td>\n",
              "    </tr>\n",
              "    <tr>\n",
              "      <th>4</th>\n",
              "      <td>Decision Tree</td>\n",
              "      <td>0.948147</td>\n",
              "    </tr>\n",
              "    <tr>\n",
              "      <th>8</th>\n",
              "      <td>AdaBoost Regressor</td>\n",
              "      <td>0.628201</td>\n",
              "    </tr>\n",
              "    <tr>\n",
              "      <th>2</th>\n",
              "      <td>Ridge</td>\n",
              "      <td>0.553180</td>\n",
              "    </tr>\n",
              "    <tr>\n",
              "      <th>0</th>\n",
              "      <td>Linear Regression</td>\n",
              "      <td>0.549761</td>\n",
              "    </tr>\n",
              "    <tr>\n",
              "      <th>3</th>\n",
              "      <td>K-Neighbors Regressor</td>\n",
              "      <td>0.495060</td>\n",
              "    </tr>\n",
              "    <tr>\n",
              "      <th>1</th>\n",
              "      <td>Lasso</td>\n",
              "      <td>0.176791</td>\n",
              "    </tr>\n",
              "  </tbody>\n",
              "</table>\n",
              "</div>"
            ],
            "text/plain": [
              "                Model Name  R2_Score\n",
              "5  Random Forest Regressor  0.989552\n",
              "7    CatBoosting Regressor  0.987169\n",
              "6             XGBRegressor  0.984006\n",
              "4            Decision Tree  0.948147\n",
              "8       AdaBoost Regressor  0.628201\n",
              "2                    Ridge  0.553180\n",
              "0        Linear Regression  0.549761\n",
              "3    K-Neighbors Regressor  0.495060\n",
              "1                    Lasso  0.176791"
            ]
          },
          "execution_count": 28,
          "metadata": {},
          "output_type": "execute_result"
        }
      ],
      "source": [
        "result_df = pd.DataFrame(list(zip(model_list, r2_list)), columns=['Model Name', 'R2_Score']).sort_values(by=[\"R2_Score\"], ascending=False)\n",
        "result_df"
      ]
    },
    {
      "cell_type": "code",
      "execution_count": 29,
      "metadata": {},
      "outputs": [
        {
          "name": "stdout",
          "output_type": "stream",
          "text": [
            "Best Model: Random Forest Regressor\n",
            "Best R2 Score: 0.9895522727454727\n"
          ]
        }
      ],
      "source": [
        "# Print the best model and its R2 score\n",
        "best_model_name = result_df.iloc[0]['Model Name']\n",
        "best_r2_score = result_df.iloc[0]['R2_Score']\n",
        "print(\"Best Model:\", best_model_name)\n",
        "print(\"Best R2 Score:\", best_r2_score)"
      ]
    },
    {
      "cell_type": "markdown",
      "metadata": {},
      "source": [
        "## Random Forest Regressor"
      ]
    },
    {
      "cell_type": "code",
      "execution_count": 30,
      "metadata": {
        "colab": {
          "base_uri": "https://localhost:8080/"
        },
        "id": "s1Jgh6RTRLnP",
        "outputId": "dc1744d7-c7ce-4a5b-ea8b-5b785d5dd160"
      },
      "outputs": [
        {
          "name": "stdout",
          "output_type": "stream",
          "text": [
            "Accuracy of the model is 98.97\n"
          ]
        }
      ],
      "source": [
        "# Create and fit a Random Forest Regressor model\n",
        "RAND_model = RandomForestRegressor()\n",
        "RAND_model.fit(X_train, y_train)\n",
        "\n",
        "# Predict on the test set\n",
        "y_pred = RAND_model.predict(X_test)\n",
        "\n",
        "# Calculate the R2 score (accuracy) of the model\n",
        "score = r2_score(y_test, y_pred) * 100\n",
        "print(\"Accuracy of the model is %.2f\" % score)"
      ]
    },
    {
      "cell_type": "markdown",
      "metadata": {},
      "source": [
        "## Plot y_pred and y_test"
      ]
    },
    {
      "cell_type": "code",
      "execution_count": 31,
      "metadata": {
        "colab": {
          "base_uri": "https://localhost:8080/",
          "height": 449
        },
        "id": "Zk-fOfF0RLj2",
        "outputId": "82946a47-8400-45fd-85db-476eaf04d5fa"
      },
      "outputs": [
        {
          "data": {
            "image/png": "[encoded data removed]",
            "text/plain": [
              "<Figure size 640x480 with 1 Axes>"
            ]
          },
          "metadata": {},
          "output_type": "display_data"
        }
      ],
      "source": [
        "plt.scatter(y_test,y_pred);\n",
        "plt.xlabel('Actual');\n",
        "plt.ylabel('Predicted');"
      ]
    },
    {
      "cell_type": "code",
      "execution_count": 32,
      "metadata": {
        "colab": {
          "base_uri": "https://localhost:8080/",
          "height": 430
        },
        "id": "nsRzzVZHRLgd",
        "outputId": "2c5d15f6-90cc-4f97-d0ff-b22909db634a"
      },
      "outputs": [
        {
          "data": {
            "image/png": "[encoded data removed]",
            "text/plain": [
              "<Figure size 640x480 with 1 Axes>"
            ]
          },
          "metadata": {},
          "output_type": "display_data"
        }
      ],
      "source": [
        "sns.regplot(x=y_test,y=y_pred,ci=None,color ='red');"
      ]
    },
    {
      "cell_type": "markdown",
      "metadata": {},
      "source": [
        "#### Difference between Actual and Predicted Values"
      ]
    },
    {
      "cell_type": "code",
      "execution_count": 33,
      "metadata": {
        "colab": {
          "base_uri": "https://localhost:8080/",
          "height": 423
        },
        "id": "vP5HVq1rR23v",
        "outputId": "4987445d-60b6-4434-bd5d-e95f3813419a"
      },
      "outputs": [
        {
          "data": {
            "text/html": [
              "<div>\n",
              "<style scoped>\n",
              "    .dataframe tbody tr th:only-of-type {\n",
              "        vertical-align: middle;\n",
              "    }\n",
              "\n",
              "    .dataframe tbody tr th {\n",
              "        vertical-align: top;\n",
              "    }\n",
              "\n",
              "    .dataframe thead th {\n",
              "        text-align: right;\n",
              "    }\n",
              "</style>\n",
              "<table border=\"1\" class=\"dataframe\">\n",
              "  <thead>\n",
              "    <tr style=\"text-align: right;\">\n",
              "      <th></th>\n",
              "      <th>Actual Value</th>\n",
              "      <th>Predicted Value</th>\n",
              "      <th>Difference</th>\n",
              "    </tr>\n",
              "  </thead>\n",
              "  <tbody>\n",
              "    <tr>\n",
              "      <th>507</th>\n",
              "      <td>7</td>\n",
              "      <td>6.60</td>\n",
              "      <td>0.40</td>\n",
              "    </tr>\n",
              "    <tr>\n",
              "      <th>2598</th>\n",
              "      <td>9</td>\n",
              "      <td>9.00</td>\n",
              "      <td>0.00</td>\n",
              "    </tr>\n",
              "    <tr>\n",
              "      <th>2348</th>\n",
              "      <td>6</td>\n",
              "      <td>6.00</td>\n",
              "      <td>0.00</td>\n",
              "    </tr>\n",
              "    <tr>\n",
              "      <th>1786</th>\n",
              "      <td>3</td>\n",
              "      <td>3.00</td>\n",
              "      <td>0.00</td>\n",
              "    </tr>\n",
              "    <tr>\n",
              "      <th>949</th>\n",
              "      <td>3</td>\n",
              "      <td>3.00</td>\n",
              "      <td>0.00</td>\n",
              "    </tr>\n",
              "    <tr>\n",
              "      <th>...</th>\n",
              "      <td>...</td>\n",
              "      <td>...</td>\n",
              "      <td>...</td>\n",
              "    </tr>\n",
              "    <tr>\n",
              "      <th>157</th>\n",
              "      <td>0</td>\n",
              "      <td>0.02</td>\n",
              "      <td>-0.02</td>\n",
              "    </tr>\n",
              "    <tr>\n",
              "      <th>1655</th>\n",
              "      <td>4</td>\n",
              "      <td>3.99</td>\n",
              "      <td>0.01</td>\n",
              "    </tr>\n",
              "    <tr>\n",
              "      <th>1453</th>\n",
              "      <td>5</td>\n",
              "      <td>5.00</td>\n",
              "      <td>0.00</td>\n",
              "    </tr>\n",
              "    <tr>\n",
              "      <th>238</th>\n",
              "      <td>10</td>\n",
              "      <td>10.00</td>\n",
              "      <td>0.00</td>\n",
              "    </tr>\n",
              "    <tr>\n",
              "      <th>1811</th>\n",
              "      <td>1</td>\n",
              "      <td>1.00</td>\n",
              "      <td>0.00</td>\n",
              "    </tr>\n",
              "  </tbody>\n",
              "</table>\n",
              "<p>557 rows × 3 columns</p>\n",
              "</div>"
            ],
            "text/plain": [
              "      Actual Value  Predicted Value  Difference\n",
              "507              7             6.60        0.40\n",
              "2598             9             9.00        0.00\n",
              "2348             6             6.00        0.00\n",
              "1786             3             3.00        0.00\n",
              "949              3             3.00        0.00\n",
              "...            ...              ...         ...\n",
              "157              0             0.02       -0.02\n",
              "1655             4             3.99        0.01\n",
              "1453             5             5.00        0.00\n",
              "238             10            10.00        0.00\n",
              "1811             1             1.00        0.00\n",
              "\n",
              "[557 rows x 3 columns]"
            ]
          },
          "execution_count": 33,
          "metadata": {},
          "output_type": "execute_result"
        }
      ],
      "source": [
        "pred_df=pd.DataFrame({'Actual Value':y_test,'Predicted Value':y_pred,'Difference':y_test-y_pred})\n",
        "pred_df"
      ]
    },
    {
      "cell_type": "markdown",
      "metadata": {},
      "source": [
        "### Deploy in Flask"
      ]
    },
    {
      "cell_type": "code",
      "execution_count": null,
      "metadata": {},
      "outputs": [],
      "source": []
    }
  ],
  "metadata": {
    "colab": {
      "provenance": []
    },
    "kernelspec": {
      "display_name": "Python 3",
      "name": "python3"
    },
    "language_info": {
      "codemirror_mode": {
        "name": "ipython",
        "version": 3
      },
      "file_extension": ".py",
      "mimetype": "text/x-python",
      "name": "python",
      "nbconvert_exporter": "python",
      "pygments_lexer": "ipython3",
      "version": "3.8.17"
    }
  },
  "nbformat": 4,
  "nbformat_minor": 0
}
